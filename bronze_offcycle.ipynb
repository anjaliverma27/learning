{
 "cells": [
  {
   "cell_type": "code",
   "execution_count": 0,
   "metadata": {
    "application/vnd.databricks.v1+cell": {
     "cellMetadata": {
      "byteLimit": 2048000,
      "rowLimit": 10000
     },
     "inputWidgets": {},
     "nuid": "9cfc5878-25fd-49f1-b6d9-625d0d711cb6",
     "showTitle": false,
     "tableResultSettingsMap": {},
     "title": ""
    }
   },
   "outputs": [],
   "source": [
    "from pyspark.sql.functions import current_timestamp\n",
    "from pyspark.sql.types import *  \n",
    "\n",
    "df = spark.readStream\\\n",
    "        .format(\"cloudFiles\")\\\n",
    "        .option(\"cloudFiles.format\", \"csv\")\\\n",
    "        .option(\"readChangeFeed\", \"true\")\\\n",
    "        .option(\"cloudFiles.schemaLocation\", \"/Volumes/payroll_catalog/landing/_schemas/bronze_offcycle\")\\\n",
    "        .load(\"/Volumes/payroll_catalog/landing/offcycle\")\\\n",
    "        .withColumn(\"ingestion_timestamp\", current_timestamp())\n",
    "\n",
    "query = df.writeStream\\\n",
    "    .format(\"delta\")\\\n",
    "    .outputMode(\"append\")\\\n",
    "    .option(\"checkpointLocation\", \"/Volumes/payroll_catalog/bronze/_checkpoints/bronze_offcycle\")\\\n",
    "    .trigger(availableNow=True)\\\n",
    "    .table(\"payroll_catalog.bronze.bronze_offcycle\")\n",
    "\n"
   ]
  },
  {
   "cell_type": "code",
   "execution_count": 0,
   "metadata": {
    "application/vnd.databricks.v1+cell": {
     "cellMetadata": {},
     "inputWidgets": {},
     "nuid": "fe6ef337-1482-4706-af6f-f5e9235292a1",
     "showTitle": false,
     "tableResultSettingsMap": {},
     "title": ""
    }
   },
   "outputs": [],
   "source": [
    "\n",
    "spark.sql(\"\"\"ALTER TABLE payroll_catalog.bronze.bronze_offcycle SET TBLPROPERTIES (delta.enableChangeDataFeed = true)\"\"\")"
   ]
  },
  {
   "cell_type": "code",
   "execution_count": 0,
   "metadata": {
    "application/vnd.databricks.v1+cell": {
     "cellMetadata": {},
     "inputWidgets": {},
     "nuid": "b9508766-cfc6-4a1c-b83a-8c4b17c17560",
     "showTitle": false,
     "tableResultSettingsMap": {},
     "title": ""
    }
   },
   "outputs": [],
   "source": [
    "for stream in spark.streams.active:\n",
    "    stream.stop()"
   ]
  }
 ],
 "metadata": {
  "application/vnd.databricks.v1+notebook": {
   "computePreferences": null,
   "dashboards": [],
   "environmentMetadata": {
    "base_environment": "",
    "environment_version": "2"
   },
   "inputWidgetPreferences": null,
   "language": "python",
   "notebookMetadata": {
    "mostRecentlyExecutedCommandWithImplicitDF": {
     "commandId": 8278476198900642,
     "dataframes": [
      "_sqldf"
     ]
    },
    "pythonIndentUnit": 4
   },
   "notebookName": "bronze_offcycle",
   "widgets": {}
  },
  "language_info": {
   "name": "python"
  }
 },
 "nbformat": 4,
 "nbformat_minor": 0
}
